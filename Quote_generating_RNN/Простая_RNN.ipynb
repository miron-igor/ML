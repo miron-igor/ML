{
  "nbformat": 4,
  "nbformat_minor": 0,
  "metadata": {
    "colab": {
      "provenance": [],
      "gpuType": "T4"
    },
    "kernelspec": {
      "name": "python3",
      "display_name": "Python 3"
    },
    "language_info": {
      "name": "python"
    },
    "accelerator": "GPU"
  },
  "cells": [
    {
      "cell_type": "code",
      "execution_count": 1,
      "metadata": {
        "id": "eZoxVzQo8sJF"
      },
      "outputs": [],
      "source": [
        "import torch\n",
        "import torch.nn as nn\n",
        "import numpy as np"
      ]
    },
    {
      "cell_type": "code",
      "source": [
        "with open(\"author_quotes.txt\", 'r') as f:\n",
        "  text = f.readlines()"
      ],
      "metadata": {
        "id": "A71wzHr9-C-R"
      },
      "execution_count": 3,
      "outputs": []
    },
    {
      "cell_type": "code",
      "source": [
        "quotes = list(map(lambda x: x.replace('\\n', ''), text))\n",
        "\n",
        "# Добавляем начальный пробел для обучения\n",
        "quotes = [' ' + q for q in quotes]"
      ],
      "metadata": {
        "id": "gf_Kq7Yf-asH"
      },
      "execution_count": 4,
      "outputs": []
    },
    {
      "cell_type": "code",
      "source": [
        "quotes[:2]"
      ],
      "metadata": {
        "colab": {
          "base_uri": "https://localhost:8080/"
        },
        "id": "ZyWMMYSr-elX",
        "outputId": "3ed41e17-f6fb-4201-c32d-ed1805fdfc43"
      },
      "execution_count": 5,
      "outputs": [
        {
          "output_type": "execute_result",
          "data": {
            "text/plain": [
              "[' If you live to be a hundred, I want to live to be a hundred minus one day so I never have to live without you.',\n",
              " \" Promise me you'll always remember: You're braver than you believe, and stronger than you seem, and smarter than you think.\"]"
            ]
          },
          "metadata": {},
          "execution_count": 5
        }
      ]
    },
    {
      "cell_type": "code",
      "source": [
        "chars = sorted(set(''.join(quotes)))\n",
        "PAD_TOKEN = '<PAD>'\n",
        "chars.append(PAD_TOKEN)\n",
        "chars2idx = {char: idx for idx, char in enumerate(chars)}\n",
        "idx2chars = {idx: char for idx, char in enumerate(chars)}\n",
        "\n",
        "vocab_size = len(chars2idx)\n",
        "print(f\"Размер словаря: {vocab_size}\")"
      ],
      "metadata": {
        "colab": {
          "base_uri": "https://localhost:8080/"
        },
        "id": "k0aMeZWR_5iU",
        "outputId": "142d7964-cb5c-47d3-a11e-1369df903a97"
      },
      "execution_count": 6,
      "outputs": [
        {
          "output_type": "stream",
          "name": "stdout",
          "text": [
            "Размер словаря: 86\n"
          ]
        }
      ]
    },
    {
      "cell_type": "code",
      "source": [
        "def to_matrix(lines, token_to_id, max_len=None, pad_value=None):\n",
        "    if pad_value is None:\n",
        "        pad_value = token_to_id[PAD_TOKEN]  # используем <PAD>\n",
        "    max_len = max_len or max(map(len, lines))\n",
        "    data = np.full([len(lines), max_len], pad_value, dtype=np.int64)\n",
        "    for i, line in enumerate(lines):\n",
        "        encoded = [token_to_id[c] for c in line[:max_len]]\n",
        "        data[i, :len(encoded)] = encoded\n",
        "    return data\n",
        "\n",
        "print(\"Пример закодированной строки:\")\n",
        "print(to_matrix(quotes[:2], chars2idx))"
      ],
      "metadata": {
        "colab": {
          "base_uri": "https://localhost:8080/"
        },
        "id": "dGLyCcJdK_D4",
        "outputId": "162ea28f-0194-41e3-b0c4-4ef31bca9db8"
      },
      "execution_count": 7,
      "outputs": [
        {
          "output_type": "stream",
          "name": "stdout",
          "text": [
            "Пример закодированной строки:\n",
            "[[ 0 38 61  0 80 70 76  0 67 64 77 60  0 75 70  0 57 60  0 56  0 63 76 69\n",
            "  59 73 60 59 12  0 38  0 78 56 69 75  0 75 70  0 67 64 77 60  0 75 70  0\n",
            "  57 60  0 56  0 63 76 69 59 73 60 59  0 68 64 69 76 74  0 70 69 60  0 59\n",
            "  56 80  0 74 70  0 38  0 69 60 77 60 73  0 63 56 77 60  0 75 70  0 67 64\n",
            "  77 60  0 78 64 75 63 70 76 75  0 80 70 76 14 85 85 85 85 85 85 85 85 85\n",
            "  85 85 85]\n",
            " [ 0 45 73 70 68 64 74 60  0 68 60  0 80 70 76  7 67 67  0 56 67 78 56 80\n",
            "  74  0 73 60 68 60 68 57 60 73 26  0 54 70 76  7 73 60  0 57 73 56 77 60\n",
            "  73  0 75 63 56 69  0 80 70 76  0 57 60 67 64 60 77 60 12  0 56 69 59  0\n",
            "  74 75 73 70 69 62 60 73  0 75 63 56 69  0 80 70 76  0 74 60 60 68 12  0\n",
            "  56 69 59  0 74 68 56 73 75 60 73  0 75 63 56 69  0 80 70 76  0 75 63 64\n",
            "  69 66 14]]\n"
          ]
        }
      ]
    },
    {
      "cell_type": "code",
      "source": [
        "class CharRNNLoop(nn.Module):\n",
        "    def __init__(self, vocab_size=vocab_size, emb_size=16, rnn_num_units=32):\n",
        "        super(CharRNNLoop, self).__init__()\n",
        "        self.emb = nn.Embedding(vocab_size, emb_size)\n",
        "        self.rnn = nn.LSTM(emb_size, rnn_num_units, batch_first=True)\n",
        "        self.hid_to_logits = nn.Linear(rnn_num_units, vocab_size)\n",
        "\n",
        "    def forward(self, x):\n",
        "        x_emb = self.emb(x)\n",
        "        h_seq, _ = self.rnn(x_emb)\n",
        "        next_logits = self.hid_to_logits(h_seq)\n",
        "        return next_logits"
      ],
      "metadata": {
        "id": "bB5N5j2aFsNV"
      },
      "execution_count": 8,
      "outputs": []
    },
    {
      "cell_type": "code",
      "source": [
        "from torch.utils.data import Dataset, DataLoader\n",
        "\n",
        "class QuoteDataset(Dataset):\n",
        "    def __init__(self, quotes, chars2idx, max_len):\n",
        "        self.quotes = quotes\n",
        "        self.chars2idx = chars2idx\n",
        "        self.max_len = max_len\n",
        "\n",
        "    def __len__(self):\n",
        "        return len(self.quotes)\n",
        "\n",
        "    def __getitem__(self, idx):\n",
        "        quote = self.quotes[idx]\n",
        "        encoded = [self.chars2idx[c] for c in quote[:self.max_len]]\n",
        "        padded = encoded + [self.chars2idx[PAD_TOKEN]] * (self.max_len - len(encoded))\n",
        "        return torch.tensor(padded, dtype=torch.long)\n",
        "\n",
        "MAX_LENGTH = 50  # ограничиваем максимальную длину цитаты\n",
        "batch_size = 8   # маленький батч для экономии памяти\n",
        "\n",
        "dataset = QuoteDataset(quotes, chars2idx, MAX_LENGTH)\n",
        "loader = DataLoader(dataset, batch_size=batch_size, shuffle=True)"
      ],
      "metadata": {
        "id": "nx4O-FXJLj-8"
      },
      "execution_count": 12,
      "outputs": []
    },
    {
      "cell_type": "code",
      "source": [
        "device = torch.device(\"cuda\" if torch.cuda.is_available() else \"cpu\")\n",
        "\n",
        "model = CharRNNLoop(vocab_size=len(chars), emb_size=128, rnn_num_units=256).to(device)\n",
        "pad_index = chars2idx[PAD_TOKEN]\n",
        "criterion = nn.CrossEntropyLoss(ignore_index=pad_index)\n",
        "optimizer = torch.optim.Adam(model.parameters(), lr=0.001)"
      ],
      "metadata": {
        "id": "3RnjnWkYKCGR"
      },
      "execution_count": 13,
      "outputs": []
    },
    {
      "cell_type": "code",
      "source": [
        "from tqdm import tqdm\n",
        "\n",
        "# 🏋️‍♂️ Шаг 8: Обучение модели\n",
        "num_epochs = 50\n",
        "patience = 0\n",
        "max_patience = 10\n",
        "best_loss = 100\n",
        "early_stopping_rounds = False\n",
        "\n",
        "for epoch in range(num_epochs):\n",
        "    model.train()\n",
        "    total_loss = 0\n",
        "    for batch in tqdm(loader, desc=f\"Epoch {epoch+1}/{num_epochs}\"):\n",
        "        batch = batch.to(device)\n",
        "        logits = model(batch)\n",
        "        predictions = logits[:, :-1]\n",
        "        targets = batch[:, 1:]\n",
        "\n",
        "        loss = criterion(predictions.reshape(-1, len(chars)), targets.reshape(-1))\n",
        "\n",
        "        loss.backward()\n",
        "        optimizer.step()\n",
        "        optimizer.zero_grad()\n",
        "\n",
        "        total_loss += loss.item()\n",
        "    mean_loss = total_loss / len(loader)\n",
        "    if best_loss > mean_loss:\n",
        "      patience = 0\n",
        "      best_loss = mean_loss\n",
        "      best_model = model\n",
        "      print(f\"New best loss: {best_loss}!\\n\")\n",
        "\n",
        "    else:\n",
        "      patience += 1\n",
        "      print(f\"Loss: {mean_loss}\\nPatience: {patience}\\n\")\n",
        "    if patience == max_patience:\n",
        "      print(f\"Early stopping rounds!\")\n",
        "      early_stopping_rounds = True\n",
        "      break"
      ],
      "metadata": {
        "id": "E2alPuqSNLvf",
        "colab": {
          "base_uri": "https://localhost:8080/"
        },
        "outputId": "85c0d3a5-962a-4406-9df0-b402431cedf7"
      },
      "execution_count": 15,
      "outputs": [
        {
          "output_type": "stream",
          "name": "stderr",
          "text": [
            "Epoch 1/50: 100%|██████████| 4521/4521 [00:16<00:00, 266.49it/s]\n"
          ]
        },
        {
          "output_type": "stream",
          "name": "stdout",
          "text": [
            "New best loss: 1.2769215507360718!\n",
            "\n"
          ]
        },
        {
          "output_type": "stream",
          "name": "stderr",
          "text": [
            "Epoch 2/50: 100%|██████████| 4521/4521 [00:16<00:00, 266.77it/s]\n"
          ]
        },
        {
          "output_type": "stream",
          "name": "stdout",
          "text": [
            "New best loss: 1.2536371403419715!\n",
            "\n"
          ]
        },
        {
          "output_type": "stream",
          "name": "stderr",
          "text": [
            "Epoch 3/50: 100%|██████████| 4521/4521 [00:16<00:00, 271.84it/s]\n"
          ]
        },
        {
          "output_type": "stream",
          "name": "stdout",
          "text": [
            "New best loss: 1.2357092139020058!\n",
            "\n"
          ]
        },
        {
          "output_type": "stream",
          "name": "stderr",
          "text": [
            "Epoch 4/50: 100%|██████████| 4521/4521 [00:17<00:00, 263.80it/s]\n"
          ]
        },
        {
          "output_type": "stream",
          "name": "stdout",
          "text": [
            "New best loss: 1.2216193251735314!\n",
            "\n"
          ]
        },
        {
          "output_type": "stream",
          "name": "stderr",
          "text": [
            "Epoch 5/50: 100%|██████████| 4521/4521 [00:16<00:00, 271.48it/s]\n"
          ]
        },
        {
          "output_type": "stream",
          "name": "stdout",
          "text": [
            "New best loss: 1.2099758637107016!\n",
            "\n"
          ]
        },
        {
          "output_type": "stream",
          "name": "stderr",
          "text": [
            "Epoch 6/50: 100%|██████████| 4521/4521 [00:16<00:00, 267.96it/s]\n"
          ]
        },
        {
          "output_type": "stream",
          "name": "stdout",
          "text": [
            "New best loss: 1.19954785144954!\n",
            "\n"
          ]
        },
        {
          "output_type": "stream",
          "name": "stderr",
          "text": [
            "Epoch 7/50: 100%|██████████| 4521/4521 [00:16<00:00, 267.12it/s]\n"
          ]
        },
        {
          "output_type": "stream",
          "name": "stdout",
          "text": [
            "New best loss: 1.19068850413067!\n",
            "\n"
          ]
        },
        {
          "output_type": "stream",
          "name": "stderr",
          "text": [
            "Epoch 8/50: 100%|██████████| 4521/4521 [00:16<00:00, 272.19it/s]\n"
          ]
        },
        {
          "output_type": "stream",
          "name": "stdout",
          "text": [
            "New best loss: 1.1826423880827688!\n",
            "\n"
          ]
        },
        {
          "output_type": "stream",
          "name": "stderr",
          "text": [
            "Epoch 9/50: 100%|██████████| 4521/4521 [00:17<00:00, 260.94it/s]\n"
          ]
        },
        {
          "output_type": "stream",
          "name": "stdout",
          "text": [
            "New best loss: 1.1762466671271177!\n",
            "\n"
          ]
        },
        {
          "output_type": "stream",
          "name": "stderr",
          "text": [
            "Epoch 10/50: 100%|██████████| 4521/4521 [00:16<00:00, 271.82it/s]\n"
          ]
        },
        {
          "output_type": "stream",
          "name": "stdout",
          "text": [
            "New best loss: 1.1701721907242082!\n",
            "\n"
          ]
        },
        {
          "output_type": "stream",
          "name": "stderr",
          "text": [
            "Epoch 11/50: 100%|██████████| 4521/4521 [00:16<00:00, 267.71it/s]\n"
          ]
        },
        {
          "output_type": "stream",
          "name": "stdout",
          "text": [
            "New best loss: 1.16446144138915!\n",
            "\n"
          ]
        },
        {
          "output_type": "stream",
          "name": "stderr",
          "text": [
            "Epoch 12/50: 100%|██████████| 4521/4521 [00:16<00:00, 268.69it/s]\n"
          ]
        },
        {
          "output_type": "stream",
          "name": "stdout",
          "text": [
            "New best loss: 1.1595219701851556!\n",
            "\n"
          ]
        },
        {
          "output_type": "stream",
          "name": "stderr",
          "text": [
            "Epoch 13/50: 100%|██████████| 4521/4521 [00:16<00:00, 272.55it/s]\n"
          ]
        },
        {
          "output_type": "stream",
          "name": "stdout",
          "text": [
            "New best loss: 1.1547360723326097!\n",
            "\n"
          ]
        },
        {
          "output_type": "stream",
          "name": "stderr",
          "text": [
            "Epoch 14/50: 100%|██████████| 4521/4521 [00:17<00:00, 261.57it/s]\n"
          ]
        },
        {
          "output_type": "stream",
          "name": "stdout",
          "text": [
            "New best loss: 1.1508257070412495!\n",
            "\n"
          ]
        },
        {
          "output_type": "stream",
          "name": "stderr",
          "text": [
            "Epoch 15/50: 100%|██████████| 4521/4521 [00:16<00:00, 269.79it/s]\n"
          ]
        },
        {
          "output_type": "stream",
          "name": "stdout",
          "text": [
            "New best loss: 1.1471515029728137!\n",
            "\n"
          ]
        },
        {
          "output_type": "stream",
          "name": "stderr",
          "text": [
            "Epoch 16/50: 100%|██████████| 4521/4521 [00:17<00:00, 265.85it/s]\n"
          ]
        },
        {
          "output_type": "stream",
          "name": "stdout",
          "text": [
            "New best loss: 1.1436944634111232!\n",
            "\n"
          ]
        },
        {
          "output_type": "stream",
          "name": "stderr",
          "text": [
            "Epoch 17/50: 100%|██████████| 4521/4521 [00:16<00:00, 267.83it/s]\n"
          ]
        },
        {
          "output_type": "stream",
          "name": "stdout",
          "text": [
            "New best loss: 1.140278328614698!\n",
            "\n"
          ]
        },
        {
          "output_type": "stream",
          "name": "stderr",
          "text": [
            "Epoch 18/50: 100%|██████████| 4521/4521 [00:16<00:00, 271.52it/s]\n"
          ]
        },
        {
          "output_type": "stream",
          "name": "stdout",
          "text": [
            "New best loss: 1.1374309056761307!\n",
            "\n"
          ]
        },
        {
          "output_type": "stream",
          "name": "stderr",
          "text": [
            "Epoch 19/50: 100%|██████████| 4521/4521 [00:17<00:00, 263.82it/s]\n"
          ]
        },
        {
          "output_type": "stream",
          "name": "stdout",
          "text": [
            "New best loss: 1.1345482800049582!\n",
            "\n"
          ]
        },
        {
          "output_type": "stream",
          "name": "stderr",
          "text": [
            "Epoch 20/50: 100%|██████████| 4521/4521 [00:16<00:00, 272.46it/s]\n"
          ]
        },
        {
          "output_type": "stream",
          "name": "stdout",
          "text": [
            "New best loss: 1.1320669743846512!\n",
            "\n"
          ]
        },
        {
          "output_type": "stream",
          "name": "stderr",
          "text": [
            "Epoch 21/50: 100%|██████████| 4521/4521 [00:16<00:00, 267.20it/s]\n"
          ]
        },
        {
          "output_type": "stream",
          "name": "stdout",
          "text": [
            "New best loss: 1.1294115370972129!\n",
            "\n"
          ]
        },
        {
          "output_type": "stream",
          "name": "stderr",
          "text": [
            "Epoch 22/50: 100%|██████████| 4521/4521 [00:16<00:00, 268.19it/s]\n"
          ]
        },
        {
          "output_type": "stream",
          "name": "stdout",
          "text": [
            "New best loss: 1.1275752156715797!\n",
            "\n"
          ]
        },
        {
          "output_type": "stream",
          "name": "stderr",
          "text": [
            "Epoch 23/50: 100%|██████████| 4521/4521 [00:16<00:00, 272.13it/s]\n"
          ]
        },
        {
          "output_type": "stream",
          "name": "stdout",
          "text": [
            "New best loss: 1.1253633437049095!\n",
            "\n"
          ]
        },
        {
          "output_type": "stream",
          "name": "stderr",
          "text": [
            "Epoch 24/50: 100%|██████████| 4521/4521 [00:17<00:00, 262.07it/s]\n"
          ]
        },
        {
          "output_type": "stream",
          "name": "stdout",
          "text": [
            "New best loss: 1.1234191094476336!\n",
            "\n"
          ]
        },
        {
          "output_type": "stream",
          "name": "stderr",
          "text": [
            "Epoch 25/50: 100%|██████████| 4521/4521 [00:16<00:00, 271.97it/s]\n"
          ]
        },
        {
          "output_type": "stream",
          "name": "stdout",
          "text": [
            "New best loss: 1.1213621421214675!\n",
            "\n"
          ]
        },
        {
          "output_type": "stream",
          "name": "stderr",
          "text": [
            "Epoch 26/50: 100%|██████████| 4521/4521 [00:16<00:00, 266.22it/s]\n"
          ]
        },
        {
          "output_type": "stream",
          "name": "stdout",
          "text": [
            "New best loss: 1.1199019031170274!\n",
            "\n"
          ]
        },
        {
          "output_type": "stream",
          "name": "stderr",
          "text": [
            "Epoch 27/50: 100%|██████████| 4521/4521 [00:17<00:00, 265.68it/s]\n"
          ]
        },
        {
          "output_type": "stream",
          "name": "stdout",
          "text": [
            "New best loss: 1.1183072654870305!\n",
            "\n"
          ]
        },
        {
          "output_type": "stream",
          "name": "stderr",
          "text": [
            "Epoch 28/50: 100%|██████████| 4521/4521 [00:16<00:00, 272.77it/s]\n"
          ]
        },
        {
          "output_type": "stream",
          "name": "stdout",
          "text": [
            "New best loss: 1.1166991434828208!\n",
            "\n"
          ]
        },
        {
          "output_type": "stream",
          "name": "stderr",
          "text": [
            "Epoch 29/50: 100%|██████████| 4521/4521 [00:17<00:00, 262.16it/s]\n"
          ]
        },
        {
          "output_type": "stream",
          "name": "stdout",
          "text": [
            "New best loss: 1.1155386730464942!\n",
            "\n"
          ]
        },
        {
          "output_type": "stream",
          "name": "stderr",
          "text": [
            "Epoch 30/50: 100%|██████████| 4521/4521 [00:16<00:00, 272.68it/s]\n"
          ]
        },
        {
          "output_type": "stream",
          "name": "stdout",
          "text": [
            "New best loss: 1.114394588482061!\n",
            "\n"
          ]
        },
        {
          "output_type": "stream",
          "name": "stderr",
          "text": [
            "Epoch 31/50: 100%|██████████| 4521/4521 [00:16<00:00, 266.62it/s]\n"
          ]
        },
        {
          "output_type": "stream",
          "name": "stdout",
          "text": [
            "New best loss: 1.1127350819081865!\n",
            "\n"
          ]
        },
        {
          "output_type": "stream",
          "name": "stderr",
          "text": [
            "Epoch 32/50: 100%|██████████| 4521/4521 [00:16<00:00, 267.51it/s]\n"
          ]
        },
        {
          "output_type": "stream",
          "name": "stdout",
          "text": [
            "New best loss: 1.1117970740681753!\n",
            "\n"
          ]
        },
        {
          "output_type": "stream",
          "name": "stderr",
          "text": [
            "Epoch 33/50: 100%|██████████| 4521/4521 [00:16<00:00, 270.07it/s]\n"
          ]
        },
        {
          "output_type": "stream",
          "name": "stdout",
          "text": [
            "New best loss: 1.110999725332199!\n",
            "\n"
          ]
        },
        {
          "output_type": "stream",
          "name": "stderr",
          "text": [
            "Epoch 34/50: 100%|██████████| 4521/4521 [00:17<00:00, 262.89it/s]\n"
          ]
        },
        {
          "output_type": "stream",
          "name": "stdout",
          "text": [
            "New best loss: 1.110163118756996!\n",
            "\n"
          ]
        },
        {
          "output_type": "stream",
          "name": "stderr",
          "text": [
            "Epoch 35/50: 100%|██████████| 4521/4521 [00:16<00:00, 271.14it/s]\n"
          ]
        },
        {
          "output_type": "stream",
          "name": "stdout",
          "text": [
            "New best loss: 1.1092674964641318!\n",
            "\n"
          ]
        },
        {
          "output_type": "stream",
          "name": "stderr",
          "text": [
            "Epoch 36/50: 100%|██████████| 4521/4521 [00:16<00:00, 267.17it/s]\n"
          ]
        },
        {
          "output_type": "stream",
          "name": "stdout",
          "text": [
            "New best loss: 1.1081581866812373!\n",
            "\n"
          ]
        },
        {
          "output_type": "stream",
          "name": "stderr",
          "text": [
            "Epoch 37/50: 100%|██████████| 4521/4521 [00:16<00:00, 267.88it/s]\n"
          ]
        },
        {
          "output_type": "stream",
          "name": "stdout",
          "text": [
            "New best loss: 1.1074319861151956!\n",
            "\n"
          ]
        },
        {
          "output_type": "stream",
          "name": "stderr",
          "text": [
            "Epoch 38/50: 100%|██████████| 4521/4521 [00:16<00:00, 269.18it/s]\n"
          ]
        },
        {
          "output_type": "stream",
          "name": "stdout",
          "text": [
            "New best loss: 1.1068137702333323!\n",
            "\n"
          ]
        },
        {
          "output_type": "stream",
          "name": "stderr",
          "text": [
            "Epoch 39/50: 100%|██████████| 4521/4521 [00:17<00:00, 263.43it/s]\n"
          ]
        },
        {
          "output_type": "stream",
          "name": "stdout",
          "text": [
            "New best loss: 1.1062565926718675!\n",
            "\n"
          ]
        },
        {
          "output_type": "stream",
          "name": "stderr",
          "text": [
            "Epoch 40/50: 100%|██████████| 4521/4521 [00:16<00:00, 272.53it/s]\n"
          ]
        },
        {
          "output_type": "stream",
          "name": "stdout",
          "text": [
            "New best loss: 1.105408967424615!\n",
            "\n"
          ]
        },
        {
          "output_type": "stream",
          "name": "stderr",
          "text": [
            "Epoch 41/50: 100%|██████████| 4521/4521 [00:17<00:00, 252.83it/s]\n"
          ]
        },
        {
          "output_type": "stream",
          "name": "stdout",
          "text": [
            "New best loss: 1.1046989284318993!\n",
            "\n"
          ]
        },
        {
          "output_type": "stream",
          "name": "stderr",
          "text": [
            "Epoch 42/50: 100%|██████████| 4521/4521 [00:16<00:00, 268.84it/s]\n"
          ]
        },
        {
          "output_type": "stream",
          "name": "stdout",
          "text": [
            "New best loss: 1.103721156607579!\n",
            "\n"
          ]
        },
        {
          "output_type": "stream",
          "name": "stderr",
          "text": [
            "Epoch 43/50: 100%|██████████| 4521/4521 [00:16<00:00, 268.29it/s]\n"
          ]
        },
        {
          "output_type": "stream",
          "name": "stdout",
          "text": [
            "Loss: 1.104007770888074\n",
            "Patience: 1\n",
            "\n"
          ]
        },
        {
          "output_type": "stream",
          "name": "stderr",
          "text": [
            "Epoch 44/50: 100%|██████████| 4521/4521 [00:17<00:00, 260.66it/s]\n"
          ]
        },
        {
          "output_type": "stream",
          "name": "stdout",
          "text": [
            "Loss: 1.1038665427251402\n",
            "Patience: 2\n",
            "\n"
          ]
        },
        {
          "output_type": "stream",
          "name": "stderr",
          "text": [
            "Epoch 45/50: 100%|██████████| 4521/4521 [00:16<00:00, 269.06it/s]\n"
          ]
        },
        {
          "output_type": "stream",
          "name": "stdout",
          "text": [
            "New best loss: 1.1030728467215851!\n",
            "\n"
          ]
        },
        {
          "output_type": "stream",
          "name": "stderr",
          "text": [
            "Epoch 46/50: 100%|██████████| 4521/4521 [00:17<00:00, 262.30it/s]\n"
          ]
        },
        {
          "output_type": "stream",
          "name": "stdout",
          "text": [
            "Loss: 1.1030906752341882\n",
            "Patience: 1\n",
            "\n"
          ]
        },
        {
          "output_type": "stream",
          "name": "stderr",
          "text": [
            "Epoch 47/50: 100%|██████████| 4521/4521 [00:16<00:00, 271.57it/s]\n"
          ]
        },
        {
          "output_type": "stream",
          "name": "stdout",
          "text": [
            "New best loss: 1.1024150635995213!\n",
            "\n"
          ]
        },
        {
          "output_type": "stream",
          "name": "stderr",
          "text": [
            "Epoch 48/50: 100%|██████████| 4521/4521 [00:16<00:00, 270.93it/s]\n"
          ]
        },
        {
          "output_type": "stream",
          "name": "stdout",
          "text": [
            "Loss: 1.1025221384592063\n",
            "Patience: 1\n",
            "\n"
          ]
        },
        {
          "output_type": "stream",
          "name": "stderr",
          "text": [
            "Epoch 49/50: 100%|██████████| 4521/4521 [00:17<00:00, 263.05it/s]\n"
          ]
        },
        {
          "output_type": "stream",
          "name": "stdout",
          "text": [
            "New best loss: 1.1018915741719442!\n",
            "\n"
          ]
        },
        {
          "output_type": "stream",
          "name": "stderr",
          "text": [
            "Epoch 50/50: 100%|██████████| 4521/4521 [00:16<00:00, 271.20it/s]"
          ]
        },
        {
          "output_type": "stream",
          "name": "stdout",
          "text": [
            "New best loss: 1.1016186081421795!\n",
            "\n"
          ]
        },
        {
          "output_type": "stream",
          "name": "stderr",
          "text": [
            "\n"
          ]
        }
      ]
    },
    {
      "cell_type": "code",
      "source": [
        "def generate_sample(model, seed_phrase=' ', max_length=50, temperature=1.0):\n",
        "    model.eval()\n",
        "    with torch.no_grad():\n",
        "        x = torch.tensor([[chars2idx[c] for c in seed_phrase]], dtype=torch.long, device=device)\n",
        "        hid_state = model.init_hidden() if hasattr(model, 'init_hidden') else None\n",
        "\n",
        "        for _ in range(max_length - len(seed_phrase)):\n",
        "            if isinstance(model, nn.RNNBase):\n",
        "                out, hid_state = model(x, hid_state)\n",
        "            else:\n",
        "                out = model(x)\n",
        "\n",
        "            logits = out[:, -1, :] / temperature\n",
        "            probs = torch.softmax(logits, dim=-1)\n",
        "            next_token = torch.multinomial(probs, 1)\n",
        "\n",
        "            x = torch.cat([x, next_token], dim=1)\n",
        "\n",
        "        generated = ''.join([idx2chars[ix] for ix in x[0].cpu().numpy()])\n",
        "        return generated.replace(PAD_TOKEN, '')  # убираем PAD из вывода"
      ],
      "metadata": {
        "id": "eTUvlBdoMItO"
      },
      "execution_count": 17,
      "outputs": []
    },
    {
      "cell_type": "code",
      "source": [
        "generate_sample(best_model, seed_phrase=' ', temperature=0.3)"
      ],
      "metadata": {
        "colab": {
          "base_uri": "https://localhost:8080/",
          "height": 35
        },
        "id": "-kwe9ZZRPIye",
        "outputId": "2a391d02-fa9f-41fd-f590-da4bc9aa75a0"
      },
      "execution_count": 29,
      "outputs": [
        {
          "output_type": "execute_result",
          "data": {
            "text/plain": [
              "' I was one of the best and family and a horror for'"
            ],
            "application/vnd.google.colaboratory.intrinsic+json": {
              "type": "string"
            }
          },
          "metadata": {},
          "execution_count": 29
        }
      ]
    },
    {
      "cell_type": "code",
      "source": [],
      "metadata": {
        "id": "_w14f9_vPVw9"
      },
      "execution_count": null,
      "outputs": []
    }
  ]
}