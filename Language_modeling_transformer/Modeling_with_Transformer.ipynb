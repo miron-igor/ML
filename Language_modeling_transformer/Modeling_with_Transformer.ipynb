{
  "nbformat": 4,
  "nbformat_minor": 0,
  "metadata": {
    "colab": {
      "provenance": [],
      "gpuType": "T4"
    },
    "kernelspec": {
      "name": "python3",
      "display_name": "Python 3"
    },
    "language_info": {
      "name": "python"
    },
    "accelerator": "GPU"
  },
  "cells": [
    {
      "cell_type": "markdown",
      "source": [
        "# Языковая модель с трансформером на основе \"Войны и мира\""
      ],
      "metadata": {
        "id": "lqrys80561dO"
      }
    },
    {
      "cell_type": "markdown",
      "source": [
        "## 1. Подготовка среды и вспомогательные функции"
      ],
      "metadata": {
        "id": "DK9SVlA066H9"
      }
    },
    {
      "cell_type": "code",
      "execution_count": 1,
      "metadata": {
        "colab": {
          "base_uri": "https://localhost:8080/"
        },
        "id": "1XwW8ASc6O3L",
        "outputId": "07fd7ded-254d-4935-a204-9bd6bf1a3599"
      },
      "outputs": [
        {
          "output_type": "stream",
          "name": "stdout",
          "text": [
            "Collecting youtokentome\n",
            "  Downloading youtokentome-1.0.6.tar.gz (86 kB)\n",
            "\u001b[?25l     \u001b[90m━━━━━━━━━━━━━━━━━━━━━━━━━━━━━━━━━━━━━━━━\u001b[0m \u001b[32m0.0/86.7 kB\u001b[0m \u001b[31m?\u001b[0m eta \u001b[36m-:--:--\u001b[0m\r\u001b[2K     \u001b[90m━━━━━━━━━━━━━━━━━━━━━━━━━━━━━━━━━━━━━━━━\u001b[0m \u001b[32m86.7/86.7 kB\u001b[0m \u001b[31m8.7 MB/s\u001b[0m eta \u001b[36m0:00:00\u001b[0m\n",
            "\u001b[?25h  Preparing metadata (setup.py) ... \u001b[?25l\u001b[?25hdone\n",
            "Requirement already satisfied: Click>=7.0 in /usr/local/lib/python3.11/dist-packages (from youtokentome) (8.2.1)\n",
            "Building wheels for collected packages: youtokentome\n",
            "  Building wheel for youtokentome (setup.py) ... \u001b[?25l\u001b[?25hdone\n",
            "  Created wheel for youtokentome: filename=youtokentome-1.0.6-cp311-cp311-linux_x86_64.whl size=1968568 sha256=337b981303aee16b55b0e9e833d103e6674c75e41ff00bb702f652d955fc5c1d\n",
            "  Stored in directory: /root/.cache/pip/wheels/1c/7c/e2/f8069c8e5ebb9f9a26963e906ffcae4977c6322af5ecaf25fc\n",
            "Successfully built youtokentome\n",
            "Installing collected packages: youtokentome\n",
            "Successfully installed youtokentome-1.0.6\n"
          ]
        }
      ],
      "source": [
        "!pip install youtokentome"
      ]
    },
    {
      "cell_type": "code",
      "source": [
        "# Настройка среды и импорт библиотек\n",
        "%load_ext autoreload\n",
        "%autoreload 2\n",
        "\n",
        "import warnings\n",
        "warnings.filterwarnings('ignore')\n",
        "\n",
        "import torch\n",
        "from torch import nn\n",
        "from torch.nn import functional as F\n",
        "from torch.utils.data import Dataset, DataLoader\n",
        "import matplotlib.pyplot as plt\n",
        "%matplotlib inline\n",
        "import numpy as np\n",
        "import youtokentome as yttm\n",
        "import os\n",
        "import math"
      ],
      "metadata": {
        "id": "PFBM0hoG6Wzo"
      },
      "execution_count": 2,
      "outputs": []
    },
    {
      "cell_type": "code",
      "source": [
        "# Вспомогательные функции\n",
        "\n",
        "def init_random_seed(seed=42):\n",
        "    \"\"\"Инициализация случайных чисел для воспроизводимости\"\"\"\n",
        "    torch.manual_seed(seed)\n",
        "    np.random.seed(seed)\n",
        "    if torch.cuda.is_available():\n",
        "        torch.cuda.manual_seed_all(seed)\n",
        "\n",
        "def get_params_number(model):\n",
        "    \"\"\"Подсчет количества параметров модели\"\"\"\n",
        "    return sum(p.numel() for p in model.parameters())\n",
        "\n",
        "def save_texts_to_file(texts, filename):\n",
        "    \"\"\"Сохранение списка текстов в файл\"\"\"\n",
        "    with open(filename, 'w', encoding='utf-8') as f:\n",
        "        for text in texts:\n",
        "            f.write(text + '\\n')\n",
        "\n",
        "def load_war_and_piece_chunks(filepath):\n",
        "    \"\"\"Загрузка и разбиение текста на фрагменты\"\"\"\n",
        "    with open(filepath, 'r', encoding='utf-8') as f:\n",
        "        text = f.read()\n",
        "\n",
        "    # Улучшенное разбиение на предложения\n",
        "    sentences = []\n",
        "    current = []\n",
        "\n",
        "    for char in text:\n",
        "        current.append(char)\n",
        "        if char in '.!?…\"':\n",
        "            if len(current) > 50:  # Минимальная длина предложения\n",
        "                sentences.append(''.join(current).strip())\n",
        "                current = []\n",
        "\n",
        "    if current:\n",
        "        sentences.append(''.join(current).strip())\n",
        "\n",
        "    return sentences"
      ],
      "metadata": {
        "id": "-aHlDqn66bki"
      },
      "execution_count": 3,
      "outputs": []
    },
    {
      "cell_type": "markdown",
      "source": [
        "## 2. Загрузка и подготовка данных"
      ],
      "metadata": {
        "id": "xr3s_k417L5Z"
      }
    },
    {
      "cell_type": "code",
      "source": [
        "# Инициализация случайного seed\n",
        "init_random_seed()"
      ],
      "metadata": {
        "id": "a0IMoP1R6o9x"
      },
      "execution_count": 4,
      "outputs": []
    },
    {
      "cell_type": "code",
      "source": [
        "# Загрузка данных\n",
        "all_chunks = load_war_and_piece_chunks('war_and_peace.txt')\n",
        "print(f\"Всего фрагментов: {len(all_chunks)}\")"
      ],
      "metadata": {
        "colab": {
          "base_uri": "https://localhost:8080/"
        },
        "id": "B6_AzIng6pAI",
        "outputId": "80eaa270-03a0-4cec-94e3-95acd8084dac"
      },
      "execution_count": 5,
      "outputs": [
        {
          "output_type": "stream",
          "name": "stdout",
          "text": [
            "Всего фрагментов: 6599\n"
          ]
        }
      ]
    },
    {
      "cell_type": "code",
      "source": [
        "# Пример текста\n",
        "print(\"Пример фрагмента:\")\n",
        "print(all_chunks[10])"
      ],
      "metadata": {
        "colab": {
          "base_uri": "https://localhost:8080/"
        },
        "id": "r_dynNLw6pFW",
        "outputId": "de0788c1-4fad-479b-f13a-3565b4aa1c8c"
      },
      "execution_count": 6,
      "outputs": [
        {
          "output_type": "stream",
          "name": "stdout",
          "text": [
            "Пример фрагмента:\n",
            "Он подошел к Анне\n",
            "Павловне, поцеловал ее руку, подставив ей свою надушенную и сияющую лысину, и\n",
            "покойно уселся на диване.\n"
          ]
        }
      ]
    },
    {
      "cell_type": "code",
      "source": [
        "# Перемешивание и разделение на обучающую/тестовую выборки\n",
        "np.random.shuffle(all_chunks)\n",
        "TRAIN_SPLIT = int(len(all_chunks) * 0.7)\n",
        "train_texts = all_chunks[:TRAIN_SPLIT]\n",
        "test_texts = all_chunks[TRAIN_SPLIT:]\n",
        "\n",
        "print(f\"Размер обучающей выборки: {len(train_texts)}\")\n",
        "print(f\"Размер тестовой выборки: {len(test_texts)}\")"
      ],
      "metadata": {
        "colab": {
          "base_uri": "https://localhost:8080/"
        },
        "id": "C0I_4n3V6pHt",
        "outputId": "e4b3b1e9-b671-4ce9-aa77-146c7443c197"
      },
      "execution_count": 7,
      "outputs": [
        {
          "output_type": "stream",
          "name": "stdout",
          "text": [
            "Размер обучающей выборки: 4619\n",
            "Размер тестовой выборки: 1980\n"
          ]
        }
      ]
    },
    {
      "cell_type": "markdown",
      "source": [
        "## 3. Обучение токенизатора"
      ],
      "metadata": {
        "id": "iwCoScNC7iCb"
      }
    },
    {
      "cell_type": "code",
      "source": [
        "# Обучение BPE-токенизатора\n",
        "BPE_MODEL_FILENAME = 'war_and_peace_bpe.yttm'\n",
        "TRAIN_TEXTS_FILENAME = 'war_and_peace_bpe_train.txt'\n",
        "\n",
        "save_texts_to_file(train_texts, TRAIN_TEXTS_FILENAME)\n",
        "\n",
        "print(\"Обучение BPE-токенизатора...\")\n",
        "yttm.BPE.train(data=TRAIN_TEXTS_FILENAME, vocab_size=5000, model=BPE_MODEL_FILENAME)\n",
        "\n",
        "tokenizer = yttm.BPE(BPE_MODEL_FILENAME)\n",
        "print(\"Пример токенизации:\", tokenizer.encode(train_texts[:1]))"
      ],
      "metadata": {
        "colab": {
          "base_uri": "https://localhost:8080/"
        },
        "id": "axjoXjhY6pKL",
        "outputId": "b77de41f-7257-4e4d-de65-e3c70ead22c5"
      },
      "execution_count": 8,
      "outputs": [
        {
          "output_type": "stream",
          "name": "stdout",
          "text": [
            "Обучение BPE-токенизатора...\n",
            "Пример токенизации: [[2006, 375, 1035, 1846, 423, 16, 679, 1375, 3675, 371, 1957, 199, 485, 4285, 3065, 658, 2052, 653, 2528, 1279, 375, 1035, 1851, 500, 231, 31, 2541, 260, 2627, 220, 228, 35, 1582, 1211, 375, 1035, 1901, 246, 724, 221, 991, 1055, 58]]\n"
          ]
        }
      ]
    },
    {
      "cell_type": "markdown",
      "source": [
        "## 4. Преобразование текстов в токены"
      ],
      "metadata": {
        "id": "2Ai0SiIi7opt"
      }
    },
    {
      "cell_type": "code",
      "source": [
        "# Преобразование текстов в токены\n",
        "train_token_ids = tokenizer.encode(train_texts, bos=True, eos=True)\n",
        "test_token_ids = tokenizer.encode(test_texts, bos=True, eos=True)"
      ],
      "metadata": {
        "id": "_mPRPca76pMK"
      },
      "execution_count": 9,
      "outputs": []
    },
    {
      "cell_type": "code",
      "source": [
        "# Визуализация распределения длин фрагментов\n",
        "plt.hist([len(sent) for sent in train_token_ids], bins=30)\n",
        "plt.title('Распределение длин фрагментов в токенах')\n",
        "plt.yscale('log')\n",
        "plt.show()"
      ],
      "metadata": {
        "colab": {
          "base_uri": "https://localhost:8080/",
          "height": 452
        },
        "id": "MUbxxu-86pOI",
        "outputId": "7971e400-b999-43c2-ba59-8054c1682d94"
      },
      "execution_count": 10,
      "outputs": [
        {
          "output_type": "display_data",
          "data": {
            "text/plain": [
              "<Figure size 640x480 with 1 Axes>"
            ],
            "image/png": "[encoded data removed]"
          },
          "metadata": {}
        }
      ]
    },
    {
      "cell_type": "code",
      "source": [
        "# Создание датасетов\n",
        "CHUNK_LENGTH = 128\n",
        "\n",
        "class LanguageModelDataset(Dataset):\n",
        "    def __init__(self, token_ids, chunk_length=CHUNK_LENGTH):\n",
        "        self.token_ids = token_ids\n",
        "        self.chunk_length = chunk_length\n",
        "\n",
        "    def __len__(self):\n",
        "        return len(self.token_ids)\n",
        "\n",
        "    def __getitem__(self, idx):\n",
        "        tokens = self.token_ids[idx]\n",
        "        tokens = tokens[:self.chunk_length]\n",
        "        if len(tokens) == 0:  # Пропуск пустых последовательностей\n",
        "            return torch.zeros(self.chunk_length, dtype=torch.long)\n",
        "        padded_tokens = tokens + [0] * (self.chunk_length - len(tokens))\n",
        "        return torch.tensor(padded_tokens)\n",
        "\n",
        "train_dataset = LanguageModelDataset(train_token_ids, chunk_length=CHUNK_LENGTH)\n",
        "test_dataset = LanguageModelDataset(test_token_ids, chunk_length=CHUNK_LENGTH)"
      ],
      "metadata": {
        "id": "ZURDng5D6pQa"
      },
      "execution_count": 11,
      "outputs": []
    },
    {
      "cell_type": "code",
      "source": [
        "# Пример из датасета\n",
        "sample = train_dataset[0]\n",
        "print(\"Пример из датасета:\", sample)\n",
        "print(\"Декодированный пример:\", tokenizer.decode([x.item() for x in sample]))"
      ],
      "metadata": {
        "colab": {
          "base_uri": "https://localhost:8080/"
        },
        "id": "Rn4tZ-d37yoB",
        "outputId": "6f644b1b-f6e7-41b0-ad2e-c560b0283805"
      },
      "execution_count": 12,
      "outputs": [
        {
          "output_type": "stream",
          "name": "stdout",
          "text": [
            "Пример из датасета: tensor([   2, 2006,  375, 1035, 1846,  423,   16,  679, 1375, 3675,  371, 1957,\n",
            "         199,  485, 4285, 3065,  658, 2052,  653, 2528, 1279,  375, 1035, 1851,\n",
            "         500,  231,   31, 2541,  260, 2627,  220,  228,   35, 1582, 1211,  375,\n",
            "        1035, 1901,  246,  724,  221,  991, 1055,   58,    3,    0,    0,    0,\n",
            "           0,    0,    0,    0,    0,    0,    0,    0,    0,    0,    0,    0,\n",
            "           0,    0,    0,    0,    0,    0,    0,    0,    0,    0,    0,    0,\n",
            "           0,    0,    0,    0,    0,    0,    0,    0,    0,    0,    0,    0,\n",
            "           0,    0,    0,    0,    0,    0,    0,    0,    0,    0,    0,    0,\n",
            "           0,    0,    0,    0,    0,    0,    0,    0,    0,    0,    0,    0,\n",
            "           0,    0,    0,    0,    0,    0,    0,    0,    0,    0,    0,    0,\n",
            "           0,    0,    0,    0,    0,    0,    0,    0])\n",
            "Декодированный пример: ['<BOS> ] (сноска 51) Я, право, опасаюсь за свои способности перед такой публикой, (сноска 52) Подождите, я возьму мою работу, (сноска 53) О чем вы думаете?<EOS><PAD><PAD><PAD><PAD><PAD><PAD><PAD><PAD><PAD><PAD><PAD><PAD><PAD><PAD><PAD><PAD><PAD><PAD><PAD><PAD><PAD><PAD><PAD><PAD><PAD><PAD><PAD><PAD><PAD><PAD><PAD><PAD><PAD><PAD><PAD><PAD><PAD><PAD><PAD><PAD><PAD><PAD><PAD><PAD><PAD><PAD><PAD><PAD><PAD><PAD><PAD><PAD><PAD><PAD><PAD><PAD><PAD><PAD><PAD><PAD><PAD><PAD><PAD><PAD><PAD><PAD><PAD><PAD><PAD><PAD><PAD><PAD><PAD><PAD><PAD><PAD><PAD><PAD><PAD><PAD><PAD><PAD><PAD>']\n"
          ]
        }
      ]
    },
    {
      "cell_type": "markdown",
      "source": [
        "## 5. Определение модели"
      ],
      "metadata": {
        "id": "9VYthBIu8c0o"
      }
    },
    {
      "cell_type": "code",
      "source": [
        "# Вспомогательные функции для модели\n",
        "\n",
        "def make_target_dependency_mask(length):\n",
        "    \"\"\"Создание маски для зависимости между токенами\"\"\"\n",
        "    full_mask = torch.ones(length, length)\n",
        "    ignore_mask = torch.tril(full_mask) < 1\n",
        "    full_mask.masked_fill_(ignore_mask, float('-inf'))\n",
        "    full_mask.masked_fill_(~ignore_mask, 0)\n",
        "    return full_mask\n",
        "\n",
        "def make_positional_encoding(max_length, embedding_size):\n",
        "    \"\"\"Создание позиционных кодировок\"\"\"\n",
        "    time = np.pi * torch.arange(0, max_length).float()\n",
        "    freq_dividers = torch.arange(1, embedding_size // 2 + 1).float()\n",
        "    inputs = time[:, None] / freq_dividers[None, :]\n",
        "\n",
        "    result = torch.zeros(max_length, embedding_size)\n",
        "    result[:, 0::2] = torch.sin(inputs)\n",
        "    result[:, 1::2] = torch.cos(inputs)\n",
        "    return result"
      ],
      "metadata": {
        "id": "zhCidmgw76dI"
      },
      "execution_count": 13,
      "outputs": []
    },
    {
      "cell_type": "code",
      "source": [
        "# Определение модели\n",
        "\n",
        "class BatchFirstTransformerEncoder(nn.Module):\n",
        "    \"\"\"Transformer Encoder с поддержкой batch-first формата\"\"\"\n",
        "    def __init__(self, *args, **kwargs):\n",
        "        super().__init__()\n",
        "        self.impl = nn.TransformerEncoder(*args, **kwargs)\n",
        "        self.initialize_weights()\n",
        "\n",
        "    def forward(self, src, *args, **kwargs):\n",
        "        src = src.transpose(0, 1).contiguous()\n",
        "        result = self.impl(src, *args, **kwargs)\n",
        "        result = result.transpose(0, 1).contiguous()\n",
        "        return result\n",
        "\n",
        "    def initialize_weights(self):\n",
        "        for param in self.impl.parameters():\n",
        "            if param.dim() > 1:\n",
        "                nn.init.xavier_uniform_(param)\n",
        "\n",
        "class LanguageModel(nn.Module):\n",
        "    \"\"\"Языковая модель на основе трансформера\"\"\"\n",
        "    def __init__(self, vocab_size, embedding_size, backbone, emb_dropout=0.0):\n",
        "        super().__init__()\n",
        "        self.embedding_size = embedding_size\n",
        "        self.embeddings = nn.Embedding(vocab_size, embedding_size, padding_idx=0)\n",
        "        self.emb_dropout = nn.Dropout(emb_dropout)\n",
        "        self.backbone = backbone\n",
        "        self.out = nn.Linear(embedding_size, vocab_size)\n",
        "\n",
        "        # Кэш позиционных кодировок\n",
        "        self.pos_encoding_cache = {}\n",
        "\n",
        "    def forward(self, seed_token_ids):\n",
        "        batch_size, max_in_length = seed_token_ids.shape\n",
        "        seed_padding_mask = (seed_token_ids == 0).to(seed_token_ids.device)\n",
        "\n",
        "        # Создаем маску на правильном устройстве\n",
        "        dependency_mask = make_target_dependency_mask(max_in_length).to(seed_token_ids.device)\n",
        "\n",
        "        seed_embs = self.embeddings(seed_token_ids)\n",
        "\n",
        "        # Создаем позиционные кодировки на нужном устройстве\n",
        "        if max_in_length not in self.pos_encoding_cache:\n",
        "            pos_codes = make_positional_encoding(max_in_length, self.embedding_size)\n",
        "            self.pos_encoding_cache[max_in_length] = pos_codes.to(seed_token_ids.device)\n",
        "\n",
        "        seed_embs = seed_embs + self.pos_encoding_cache[max_in_length][:max_in_length, :]\n",
        "        seed_embs = self.emb_dropout(seed_embs)\n",
        "\n",
        "        target_features = self.backbone(seed_embs, mask=dependency_mask, src_key_padding_mask=seed_padding_mask)\n",
        "        logits = self.out(target_features)\n",
        "        return logits\n",
        "\n",
        "    # Свойство для определения устройства\n",
        "    @property\n",
        "    def device(self):\n",
        "        return next(self.parameters()).device"
      ],
      "metadata": {
        "id": "7fgpoFIP8dwW"
      },
      "execution_count": 14,
      "outputs": []
    },
    {
      "cell_type": "code",
      "source": [
        "# Функция потерь\n",
        "def lm_cross_entropy(pred, target):\n",
        "    \"\"\"Функция потерь со сдвигом целей на один токен\"\"\"\n",
        "    pred_flat = pred[:, :-1, :].contiguous().view(-1, pred.shape[-1])  # Убираем последний токен предсказаний\n",
        "    target_flat = target[:, 1:].contiguous().view(-1)  # Сдвигаем цели на один токен\n",
        "    return F.cross_entropy(pred_flat, target_flat, ignore_index=0)"
      ],
      "metadata": {
        "id": "WXYMyz0u8ioA"
      },
      "execution_count": 15,
      "outputs": []
    },
    {
      "cell_type": "code",
      "source": [
        "# Создание модели\n",
        "torch_transf_model = LanguageModel(\n",
        "    tokenizer.vocab_size(),\n",
        "    512,\n",
        "    BatchFirstTransformerEncoder(\n",
        "        nn.TransformerEncoderLayer(\n",
        "            d_model=512,\n",
        "            nhead=8,\n",
        "            dim_feedforward=2048,\n",
        "            dropout=0.2,\n",
        "            layer_norm_eps=1e-5,\n",
        "        ),\n",
        "        num_layers=6\n",
        "    ),\n",
        "    emb_dropout=0.2\n",
        ")\n",
        "print(f'Количество параметров: {get_params_number(torch_transf_model):,}')"
      ],
      "metadata": {
        "colab": {
          "base_uri": "https://localhost:8080/"
        },
        "id": "DmFc2vuJ8ltT",
        "outputId": "5c4519c9-5c6e-47f9-efc8-4ad341b2b68b"
      },
      "execution_count": 44,
      "outputs": [
        {
          "output_type": "stream",
          "name": "stdout",
          "text": [
            "Количество параметров: 24,039,304\n"
          ]
        }
      ]
    },
    {
      "cell_type": "markdown",
      "source": [
        "## 6. Обучение модели"
      ],
      "metadata": {
        "id": "61JhI2R88yf-"
      }
    },
    {
      "cell_type": "code",
      "source": [
        "# Функция обучения\n",
        "def train_eval_loop(model, train_dataset, test_dataset, loss_func,\n",
        "                    lr=1e-3, epoch_n=100, batch_size=32, device='cuda',\n",
        "                    early_stopping_patience=10, max_batches_per_epoch_train=100,\n",
        "                    max_batches_per_epoch_val=100, lr_scheduler_ctor=None):\n",
        "    \"\"\"Обучающий цикл с оценкой качества\"\"\"\n",
        "    # optimizer = torch.optim.Adam(model.parameters(), lr=lr)\n",
        "    optimizer = torch.optim.AdamW(\n",
        "    torch_transf_model.parameters(),\n",
        "    lr=lr,\n",
        "    betas=(0.9, 0.98),\n",
        "    eps=1e-9,\n",
        "    weight_decay=0.01)\n",
        "    scheduler = lr_scheduler_ctor(optimizer) if lr_scheduler_ctor else None\n",
        "\n",
        "    train_loader = DataLoader(train_dataset, batch_size=batch_size, shuffle=True)\n",
        "    test_loader = DataLoader(test_dataset, batch_size=batch_size)\n",
        "\n",
        "    best_loss = float('inf')\n",
        "    best_model = None\n",
        "    no_improvement = 0\n",
        "\n",
        "    model = model.to(device)\n",
        "\n",
        "    for epoch in range(epoch_n):\n",
        "        model.train()\n",
        "        train_loss = 0.0\n",
        "\n",
        "        for batch_i, batch in enumerate(train_loader):\n",
        "            if batch_i >= max_batches_per_epoch_train:\n",
        "                break\n",
        "\n",
        "            inputs = batch.to(device)\n",
        "            targets = inputs.clone()\n",
        "\n",
        "            optimizer.zero_grad()\n",
        "            logits = model(inputs)\n",
        "            loss = loss_func(logits, targets)\n",
        "            loss.backward()\n",
        "            optimizer.step()\n",
        "\n",
        "            train_loss += loss.item()\n",
        "\n",
        "        model.eval()\n",
        "        val_loss = 0.0\n",
        "        with torch.no_grad():\n",
        "            for batch_i, batch in enumerate(test_loader):\n",
        "                if batch_i >= max_batches_per_epoch_val:\n",
        "                    break\n",
        "\n",
        "                inputs = batch.to(device)\n",
        "                targets = inputs.clone()\n",
        "                logits = model(inputs)\n",
        "                loss = loss_func(logits, targets)\n",
        "                val_loss += loss.item()\n",
        "\n",
        "        train_loss /= max_batches_per_epoch_train\n",
        "        val_loss /= max_batches_per_epoch_val\n",
        "\n",
        "        if scheduler:\n",
        "            scheduler.step(val_loss)\n",
        "\n",
        "        print(f'Epoch {epoch+1}: Train Loss={train_loss:.4f}, Val Loss={val_loss:.4f}')\n",
        "\n",
        "        if val_loss < best_loss:\n",
        "            best_loss = val_loss\n",
        "            best_model = model.state_dict()\n",
        "            no_improvement = 0\n",
        "        else:\n",
        "            no_improvement += 1\n",
        "\n",
        "        if no_improvement >= early_stopping_patience:\n",
        "            print(\"Early stopping triggered\")\n",
        "            break\n",
        "\n",
        "    model.load_state_dict(best_model)\n",
        "    return best_loss, model"
      ],
      "metadata": {
        "id": "Jhn2WbSt8opM"
      },
      "execution_count": 45,
      "outputs": []
    },
    {
      "cell_type": "code",
      "source": [
        "# Обучение модели\n",
        "device = 'cuda' if torch.cuda.is_available() else 'cpu'\n",
        "print(f\"Используется устройство: {device}\")\n",
        "\n",
        "def lr_scheduler(optimizer):\n",
        "    return torch.optim.lr_scheduler.CosineAnnealingWarmRestarts(\n",
        "        optimizer,\n",
        "        T_0=10,\n",
        "        T_mult=2,\n",
        "        eta_min=1e-6\n",
        "    )\n",
        "\n",
        "(best_val_loss, best_torch_transf_model) = train_eval_loop(\n",
        "    torch_transf_model,\n",
        "    train_dataset,\n",
        "    test_dataset,\n",
        "    lm_cross_entropy,\n",
        "    lr=1e-4,\n",
        "    epoch_n=500,\n",
        "    batch_size=128,\n",
        "    device=device,\n",
        "    early_stopping_patience=10,\n",
        "    max_batches_per_epoch_train=500,\n",
        "    max_batches_per_epoch_val=200,\n",
        "    lr_scheduler_ctor=lr_scheduler\n",
        ")"
      ],
      "metadata": {
        "colab": {
          "base_uri": "https://localhost:8080/"
        },
        "id": "Op8Y5lLv8zn0",
        "outputId": "3f75d9d8-8360-41c3-c5c0-86dc06f6db75"
      },
      "execution_count": 46,
      "outputs": [
        {
          "output_type": "stream",
          "name": "stdout",
          "text": [
            "Используется устройство: cuda\n",
            "Epoch 1: Train Loss=0.5811, Val Loss=0.5968\n",
            "Epoch 2: Train Loss=0.5504, Val Loss=0.5859\n",
            "Epoch 3: Train Loss=0.5433, Val Loss=0.5777\n",
            "Epoch 4: Train Loss=0.5362, Val Loss=0.5709\n",
            "Epoch 5: Train Loss=0.5311, Val Loss=0.5649\n",
            "Epoch 6: Train Loss=0.5244, Val Loss=0.5576\n",
            "Epoch 7: Train Loss=0.5175, Val Loss=0.5511\n",
            "Epoch 8: Train Loss=0.5109, Val Loss=0.5433\n",
            "Epoch 9: Train Loss=0.5045, Val Loss=0.5380\n",
            "Epoch 10: Train Loss=0.4990, Val Loss=0.5334\n",
            "Epoch 11: Train Loss=0.4935, Val Loss=0.5286\n",
            "Epoch 12: Train Loss=0.4882, Val Loss=0.5239\n",
            "Epoch 13: Train Loss=0.4841, Val Loss=0.5200\n",
            "Epoch 14: Train Loss=0.4793, Val Loss=0.5161\n",
            "Epoch 15: Train Loss=0.4750, Val Loss=0.5112\n",
            "Epoch 16: Train Loss=0.4702, Val Loss=0.5072\n",
            "Epoch 17: Train Loss=0.4663, Val Loss=0.5038\n",
            "Epoch 18: Train Loss=0.4617, Val Loss=0.5003\n",
            "Epoch 19: Train Loss=0.4576, Val Loss=0.4964\n",
            "Epoch 20: Train Loss=0.4534, Val Loss=0.4925\n",
            "Epoch 21: Train Loss=0.4491, Val Loss=0.4897\n",
            "Epoch 22: Train Loss=0.4454, Val Loss=0.4862\n",
            "Epoch 23: Train Loss=0.4409, Val Loss=0.4835\n",
            "Epoch 24: Train Loss=0.4366, Val Loss=0.4806\n",
            "Epoch 25: Train Loss=0.4334, Val Loss=0.4780\n",
            "Epoch 26: Train Loss=0.4293, Val Loss=0.4754\n",
            "Epoch 27: Train Loss=0.4257, Val Loss=0.4723\n",
            "Epoch 28: Train Loss=0.4218, Val Loss=0.4697\n",
            "Epoch 29: Train Loss=0.4185, Val Loss=0.4671\n",
            "Epoch 30: Train Loss=0.4148, Val Loss=0.4650\n",
            "Epoch 31: Train Loss=0.4108, Val Loss=0.4623\n",
            "Epoch 32: Train Loss=0.4064, Val Loss=0.4601\n",
            "Epoch 33: Train Loss=0.4033, Val Loss=0.4577\n",
            "Epoch 34: Train Loss=0.3997, Val Loss=0.4556\n",
            "Epoch 35: Train Loss=0.3964, Val Loss=0.4541\n",
            "Epoch 36: Train Loss=0.3931, Val Loss=0.4519\n",
            "Epoch 37: Train Loss=0.3896, Val Loss=0.4502\n",
            "Epoch 38: Train Loss=0.3858, Val Loss=0.4482\n",
            "Epoch 39: Train Loss=0.3825, Val Loss=0.4465\n",
            "Epoch 40: Train Loss=0.3793, Val Loss=0.4454\n",
            "Epoch 41: Train Loss=0.3762, Val Loss=0.4437\n",
            "Epoch 42: Train Loss=0.3724, Val Loss=0.4417\n",
            "Epoch 43: Train Loss=0.3696, Val Loss=0.4412\n",
            "Epoch 44: Train Loss=0.3666, Val Loss=0.4395\n",
            "Epoch 45: Train Loss=0.3632, Val Loss=0.4383\n",
            "Epoch 46: Train Loss=0.3608, Val Loss=0.4375\n",
            "Epoch 47: Train Loss=0.3574, Val Loss=0.4368\n",
            "Epoch 48: Train Loss=0.3543, Val Loss=0.4359\n",
            "Epoch 49: Train Loss=0.3509, Val Loss=0.4350\n",
            "Epoch 50: Train Loss=0.3489, Val Loss=0.4341\n",
            "Epoch 51: Train Loss=0.3455, Val Loss=0.4340\n",
            "Epoch 52: Train Loss=0.3426, Val Loss=0.4331\n",
            "Epoch 53: Train Loss=0.3402, Val Loss=0.4326\n",
            "Epoch 54: Train Loss=0.3380, Val Loss=0.4320\n",
            "Epoch 55: Train Loss=0.3345, Val Loss=0.4320\n",
            "Epoch 56: Train Loss=0.3316, Val Loss=0.4317\n",
            "Epoch 57: Train Loss=0.3292, Val Loss=0.4312\n",
            "Epoch 58: Train Loss=0.3266, Val Loss=0.4309\n",
            "Epoch 59: Train Loss=0.3245, Val Loss=0.4303\n",
            "Epoch 60: Train Loss=0.3211, Val Loss=0.4305\n",
            "Epoch 61: Train Loss=0.3190, Val Loss=0.4306\n",
            "Epoch 62: Train Loss=0.3165, Val Loss=0.4302\n",
            "Epoch 63: Train Loss=0.3139, Val Loss=0.4300\n",
            "Epoch 64: Train Loss=0.3114, Val Loss=0.4306\n",
            "Epoch 65: Train Loss=0.3090, Val Loss=0.4303\n",
            "Epoch 66: Train Loss=0.3065, Val Loss=0.4307\n",
            "Epoch 67: Train Loss=0.3045, Val Loss=0.4301\n",
            "Epoch 68: Train Loss=0.3018, Val Loss=0.4308\n",
            "Epoch 69: Train Loss=0.2995, Val Loss=0.4308\n",
            "Epoch 70: Train Loss=0.2979, Val Loss=0.4306\n",
            "Epoch 71: Train Loss=0.2955, Val Loss=0.4311\n",
            "Epoch 72: Train Loss=0.2929, Val Loss=0.4313\n",
            "Epoch 73: Train Loss=0.2904, Val Loss=0.4319\n",
            "Early stopping triggered\n"
          ]
        }
      ]
    },
    {
      "cell_type": "code",
      "source": [
        "# Сохранение и загрузка лучшей модели\n",
        "torch.save(best_torch_transf_model.state_dict(), 'war_and_peace_torch_transf_best.pth')\n",
        "print(\"Модель сохранена\")"
      ],
      "metadata": {
        "colab": {
          "base_uri": "https://localhost:8080/"
        },
        "id": "l1kQZIFM83ne",
        "outputId": "9223dc99-2e81-49af-8aa5-bb56cf88551e"
      },
      "execution_count": 49,
      "outputs": [
        {
          "output_type": "stream",
          "name": "stdout",
          "text": [
            "Модель сохранена\n"
          ]
        }
      ]
    },
    {
      "cell_type": "code",
      "source": [
        "# Загрузка сохраненной модели\n",
        "torch_transf_model.load_state_dict(torch.load('war_and_peace_torch_transf_best.pth'))"
      ],
      "metadata": {
        "id": "HJbqVmDa_0SO",
        "colab": {
          "base_uri": "https://localhost:8080/"
        },
        "outputId": "c7a6bb8f-1806-4b6b-aecc-34a445cb6155"
      },
      "execution_count": 50,
      "outputs": [
        {
          "output_type": "execute_result",
          "data": {
            "text/plain": [
              "<All keys matched successfully>"
            ]
          },
          "metadata": {},
          "execution_count": 50
        }
      ]
    },
    {
      "cell_type": "markdown",
      "source": [
        "## 7. Генерация текста"
      ],
      "metadata": {
        "id": "UhJE31VH_5zL"
      }
    },
    {
      "cell_type": "code",
      "source": [
        "# Класс для генерации текста\n",
        "class GreedyGenerator:\n",
        "    \"\"\"Жадный генератор текста с кэшированием\"\"\"\n",
        "    def __init__(self, model, tokenizer):\n",
        "        self.model = model\n",
        "        self.tokenizer = tokenizer\n",
        "\n",
        "    def __call__(self, seed_text, max_len=50):\n",
        "        self.model.eval()\n",
        "        tokens = self.tokenizer.encode([seed_text], bos=True)[0]\n",
        "        device = self.model.device\n",
        "        tokens_tensor = torch.tensor(tokens).unsqueeze(0).to(device)\n",
        "\n",
        "        with torch.no_grad():\n",
        "            for _ in range(max_len):\n",
        "                # Используем только последние CHUNK_LENGTH токенов\n",
        "                input_tokens = tokens_tensor[:, -CHUNK_LENGTH:]\n",
        "\n",
        "                logits = self.model(input_tokens)\n",
        "                next_token = torch.argmax(logits[0, -1, :])\n",
        "\n",
        "                # Проверяем EOS (конец последовательности)\n",
        "                if next_token.item() == 3:  # EOS token\n",
        "                    break\n",
        "\n",
        "                tokens.append(next_token.item())\n",
        "                tokens_tensor = torch.tensor(tokens).unsqueeze(0).to(device)\n",
        "\n",
        "        return self.tokenizer.decode(tokens)[0]"
      ],
      "metadata": {
        "id": "h1vcKJUF_6cg"
      },
      "execution_count": 51,
      "outputs": []
    },
    {
      "cell_type": "code",
      "source": [
        "# Генерация текста\n",
        "greedy_generator = GreedyGenerator(torch_transf_model, tokenizer)\n",
        "\n",
        "print(\"\\nГенерация текста:\")\n",
        "print(greedy_generator('сказала княжна, оглядывая '))\n",
        "print(greedy_generator('смеялась княжна, оглядывая '))\n",
        "print(greedy_generator('Наполеон хочет '))"
      ],
      "metadata": {
        "id": "pj1soqmr_7nw",
        "colab": {
          "base_uri": "https://localhost:8080/"
        },
        "outputId": "2cbec0b7-31b8-4b36-c18a-48482a13cc33"
      },
      "execution_count": 56,
      "outputs": [
        {
          "output_type": "stream",
          "name": "stdout",
          "text": [
            "\n",
            "Генерация текста:\n",
            "<BOS> сказала княжна, оглядывая на Анну Павловна.\n",
            "<BOS> смеялась княжна, оглядывая на него и на него глазами, ногу, что он не мог понять, что он был в том, что он был в том, что он был в душе.\n",
            "<BOS> Наполеон хочет еще не мог понять, как будто он был в том, что он был в том, что он был в Петербурге, и что он был в душе в Петербурге, и что он был в этом случае должно было бы мог бы мог бы мог бы мог бы мог\n"
          ]
        }
      ]
    },
    {
      "cell_type": "code",
      "source": [],
      "metadata": {
        "id": "DmfmjJ5aBE3V"
      },
      "execution_count": 24,
      "outputs": []
    }
  ]
}